{
 "cells": [
  {
   "cell_type": "markdown",
   "metadata": {
    "_cell_guid": "45a97402-70dc-42e6-9365-3f096a0c8646",
    "_uuid": "d6ea5ced-c4bd-4e73-8ba2-4d8c21f6171a"
   },
   "source": [
    "# Amazon Fine Food Reviews: EDA"
   ]
  },
  {
   "cell_type": "markdown",
   "metadata": {
    "_cell_guid": "c07fc8ad-8693-45cc-ab16-231feb2b23a8",
    "_uuid": "e71cabdd-3f3f-4ff5-bd9a-2855f3910227"
   },
   "source": [
    "## Introduction"
   ]
  },
  {
   "cell_type": "markdown",
   "metadata": {
    "_cell_guid": "a9cb03c7-e77e-4da7-af62-cacd5af5a8b0",
    "_uuid": "21bcf29d-5460-46dd-ab67-3ede2c991951"
   },
   "source": [
    "<pre>\n",
    "<b>Dataset statistics</b>\n",
    "Number of reviews \t568,454\n",
    "Number of users \t256,059\n",
    "Number of products \t74,258\n",
    "Users with > 50 reviews \t260\n",
    "Median no. of words per review \t56\n",
    "Timespan \tOct 1999 - Oct 2012\n",
    "</pre>\n",
    "<br />\n",
    "<b>Data Fields Explanation</b><br />\n",
    "\n",
    "The Amazon Fine Food Reviews dataset consists of 568,454 food reviews. This dataset consists of a single CSV file, Reviews.csv. The columns in the table are:\n",
    "<pre>\n",
    "    Id - Unique row number\n",
    "    ProductId - unique identifier for the product\n",
    "    UserId - unqiue identifier for the user\n",
    "    ProfileName\n",
    "    HelpfulnessNumerator - number of users who found the review helpful\n",
    "    HelpfulnessDenominator - number of users who indicated whether they found the review helpful\n",
    "    Score - rating between 1 and 5\n",
    "    Time - timestamp for the review\n",
    "    Summary - brief summary of the review\n",
    "    Text - text of the review\n",
    "</pre>\n",
    "\n",
    "<img src=\"AmazonReview.png\">"
   ]
  },
  {
   "cell_type": "code",
   "execution_count": 0,
   "metadata": {
    "_cell_guid": "30fb98a8-05aa-4707-9c41-083219085c26",
    "_uuid": "2c5abbad-9533-4467-810d-54149918d023"
   },
   "outputs": [],
   "source": [
    "#from IPython.display import Image\n",
    "#Image(filename='AmazonReview.png')"
   ]
  },
  {
   "cell_type": "markdown",
   "metadata": {
    "_cell_guid": "413097dd-c561-46ca-a0f4-be26a9a348c3",
    "_uuid": "ae6997e9-cc13-435f-b4f8-9a9b18d7c724"
   },
   "source": [
    "## Objective"
   ]
  },
  {
   "cell_type": "markdown",
   "metadata": {
    "_cell_guid": "6f4c04a7-e94f-4411-b6d9-89cd2579d82b",
    "_uuid": "f70addb4-5217-4544-897e-656a7702bdc0"
   },
   "source": [
    "Analysing the data & plot the required graphs to show that these conclusions are true:\n",
    "<pre>\n",
    "a. Positive reviews are very common.\n",
    "b. Positive reviews are shorter.\n",
    "c. Longer reviews are more helpful.\n",
    "d. Despite being more common and shorter, positive reviews are found more helpful.\n",
    "e. Frequent reviewers are more discerning in their ratings, write longer reviews, and write more helpful reviews\n",
    "</pre>\n",
    "<b>Note:</b> This notebook is highly inspired from the <a href=\"http://blog.nycdatascience.com/student-works/amazon-fine-foods-visualization/\">Exploratory visualization of Amazon fine food reviews by Rob Castellano.</a>"
   ]
  },
  {
   "cell_type": "markdown",
   "metadata": {
    "_cell_guid": "2eba0ad4-fdcb-432f-b22d-f821355589ad",
    "_uuid": "a6fe6f6c-f527-4a1e-9a42-a12b05956a01"
   },
   "source": [
    "## Loading the Data"
   ]
  },
  {
   "cell_type": "code",
   "execution_count": 0,
   "metadata": {
    "_cell_guid": "af597868-e4b2-4dfb-9adf-57bbe398b871",
    "_uuid": "1183a394-335a-48b6-baa2-502992fcc908"
   },
   "outputs": [],
   "source": [
    "#Let's import pandas to read the csv file.\n",
    "import pandas as pd\n",
    "df = pd.read_csv(\"../input/Reviews.csv\")"
   ]
  },
  {
   "cell_type": "code",
   "execution_count": 0,
   "metadata": {
    "_cell_guid": "ac812643-17cf-45c5-8474-2259b1ece0cc",
    "_uuid": "fa8fc94c-d555-4001-ba42-50ce7760ab0f"
   },
   "outputs": [],
   "source": [
    "#Printing first 5 columns from our data frame\n",
    "df.head()"
   ]
  },
  {
   "cell_type": "code",
   "execution_count": 0,
   "metadata": {
    "_cell_guid": "ed4d8116-19e1-418f-88df-a1a7bf4994e6",
    "_uuid": "4b094d9f-e3ff-4d66-b261-be3ff2bbb7c7"
   },
   "outputs": [],
   "source": [
    "#Observing the lables of each column\n",
    "print(df.keys())"
   ]
  },
  {
   "cell_type": "code",
   "execution_count": 0,
   "metadata": {
    "_cell_guid": "936f60e1-9eb2-4843-8a0f-5c0b5664381a",
    "_uuid": "909ed0a4-64ad-4e8f-9d51-49ff83c62072"
   },
   "outputs": [],
   "source": [
    "#Observing the shape of our data frame.\n",
    "df.shape\n",
    "# Note: We have 10 features and 568454 data points."
   ]
  },
  {
   "cell_type": "code",
   "execution_count": 0,
   "metadata": {
    "_cell_guid": "0c280337-2ceb-4a01-a1bf-9772774f7756",
    "_uuid": "fa2bf117-1779-4e2b-ba23-3de966a7bec5"
   },
   "outputs": [],
   "source": [
    "#Lets check for missing values\n",
    "df.info()\n",
    "#Observe that there are some missing values in 'PROFILENAME' & 'SUMMARY' column."
   ]
  },
  {
   "cell_type": "code",
   "execution_count": 0,
   "metadata": {
    "_cell_guid": "ec142031-0660-44ed-bbbb-8eff1d1e467e",
    "_uuid": "1a7a00b9-1cdb-429d-87af-f6f9ad464d1c",
    "scrolled": true
   },
   "outputs": [],
   "source": [
    "df.describe()\n",
    "#Observe that more than 75% of our data is belonging to positive /\n",
    "#class, i.e. we have imbalanced dataset."
   ]
  },
  {
   "cell_type": "code",
   "execution_count": 0,
   "metadata": {
    "_cell_guid": "7d10768a-fb09-477e-ae12-fc882d325f79",
    "_uuid": "b354f85c-e998-45e5-8c71-29b7bfb20070",
    "scrolled": true
   },
   "outputs": [],
   "source": [
    "#Lets do the value count on 'Scores'.\n",
    "df.Score.value_counts()"
   ]
  },
  {
   "cell_type": "markdown",
   "metadata": {
    "_cell_guid": "ce6d8386-a793-46ce-9531-4a8e1cfbcfaa",
    "_uuid": "2db517f0-1922-4199-9d3b-24cb3624491e"
   },
   "source": [
    "## Exploratory Data Analysis"
   ]
  },
  {
   "cell_type": "markdown",
   "metadata": {
    "_cell_guid": "04e8b5d3-1ef6-4726-9206-4795d90b74fe",
    "_uuid": "b97cce1a-da71-490f-bf33-7b5b12b6a5ca"
   },
   "source": [
    "Till now we saw that 5-star reviews constitute a large proportion (64%) of all reviews. The next most prevalent rating is 4-stars(14%), followed by 1-star (9%), 3-star (8%), and finally 2-star reviews (5%).<br />\n",
    "Note that we have 10 features and 568454 data points. There are some missing values in 'PROFILENAME' & 'SUMMARY' column. More than 75% of our data is belonging to positive class(Score=4,5), i.e. we have imbalanced dataset."
   ]
  },
  {
   "cell_type": "code",
   "execution_count": 0,
   "metadata": {
    "_cell_guid": "171149ab-263c-4f70-913f-594c4bee5eef",
    "_uuid": "c243e771-fc3f-4123-97f3-a9c743448d04"
   },
   "outputs": [],
   "source": [
    "#Importing Seaborn and Matplotlib for graphical effects.\n",
    "import matplotlib.pyplot as plt\n",
    "import seaborn as sns\n",
    "plt.figure()\n",
    "sns.countplot(x='Score', data=df, palette='RdBu')\n",
    "plt.xlabel('Score (Rating)')\n",
    "plt.show()"
   ]
  },
  {
   "cell_type": "markdown",
   "metadata": {
    "_cell_guid": "314c4ff9-a129-4c51-bd8e-c8a5aa6caacf",
    "_uuid": "35b9d450-c7ba-495c-bb60-fe6b2e5c26ee"
   },
   "source": [
    "## Creating a new dataframe"
   ]
  },
  {
   "cell_type": "code",
   "execution_count": 0,
   "metadata": {
    "_cell_guid": "5d3da5bc-51bd-4941-943c-280601e4b57d",
    "_uuid": "c12a2604-24d8-4f1f-88d6-f084d417c755"
   },
   "outputs": [],
   "source": [
    "#copying the original dataframe to 'temp_df'.\n",
    "temp_df = df[['UserId','HelpfulnessNumerator','HelpfulnessDenominator', 'Summary', 'Text','Score']].copy()\n",
    "\n",
    "#Adding new features to dataframe.\n",
    "temp_df[\"Sentiment\"] = temp_df[\"Score\"].apply(lambda score: \"positive\" if score > 3 else \\\n",
    "                                              (\"negative\" if score < 3 else \"not defined\"))\n",
    "temp_df[\"Usefulness\"] = (temp_df[\"HelpfulnessNumerator\"]/temp_df[\"HelpfulnessDenominator\"]).apply\\\n",
    "(lambda n: \">75%\" if n > 0.75 else (\"<25%\" if n < 0.25 else (\"25-75%\" if n >= 0.25 and\\\n",
    "                                                                        n <= 0.75 else \"useless\")))\n",
    "\n",
    "temp_df.loc[temp_df.HelpfulnessDenominator == 0, 'Usefulness'] = [\"useless\"]\n",
    "# Removing all rows where 'Score' is equal to 3\n",
    "#temp_df = temp_df[temp_df.Score != 3]\n",
    "#Lets now observe the shape of our new dataframe.\n",
    "temp_df.shape"
   ]
  },
  {
   "cell_type": "code",
   "execution_count": 0,
   "metadata": {
    "_cell_guid": "fbc19524-4ced-4a6e-ae68-dbd2ac016bd3",
    "_uuid": "ebcae780-ae13-4258-9206-2808745124ba"
   },
   "outputs": [],
   "source": [
    "temp_df.describe()"
   ]
  },
  {
   "cell_type": "code",
   "execution_count": 0,
   "metadata": {
    "_cell_guid": "8d49a0c5-5d8e-41b3-961e-64335f26ae8e",
    "_uuid": "6da11285-f336-420c-8ef5-49f4d7391361",
    "scrolled": false
   },
   "outputs": [],
   "source": [
    "temp_df.info()"
   ]
  },
  {
   "cell_type": "code",
   "execution_count": 0,
   "metadata": {
    "_cell_guid": "666184b9-ce9d-45d7-9fda-cf7744784e6a",
    "_uuid": "d26d4979-78ef-4ddf-9191-2d637b1746d5",
    "scrolled": false
   },
   "outputs": [],
   "source": [
    "#Lets view the dataframe when Score=5\n",
    "temp_df[temp_df.Score == 5].head(10)"
   ]
  },
  {
   "cell_type": "markdown",
   "metadata": {
    "_cell_guid": "1a1b43dd-b2fc-4831-aff5-edd8b8358cc9",
    "_uuid": "678ca259-2452-4913-afe5-28c198aa1abf"
   },
   "source": [
    "## Positive reviews are very common"
   ]
  },
  {
   "cell_type": "code",
   "execution_count": 0,
   "metadata": {
    "_cell_guid": "4b814e79-b4a3-4092-a9fc-386e28da14f3",
    "_uuid": "40e213b2-ab05-4275-9bfe-71e628e63857"
   },
   "outputs": [],
   "source": [
    "sns.countplot(x='Sentiment', order=[\"positive\", \"negative\"], data=temp_df, palette='RdBu')\n",
    "plt.xlabel('Sentiment')\n",
    "plt.show()"
   ]
  },
  {
   "cell_type": "code",
   "execution_count": 0,
   "metadata": {
    "_cell_guid": "f4377495-f691-4aec-87a5-511b4f523e94",
    "_uuid": "565f59d4-c78a-4037-9ec7-7f5f649646f3"
   },
   "outputs": [],
   "source": [
    "temp_df.Sentiment.value_counts()"
   ]
  },
  {
   "cell_type": "markdown",
   "metadata": {
    "_cell_guid": "eda13175-77c1-48d4-942c-a3fd6f6f804a",
    "_uuid": "342135f5-3203-4110-bd33-2fbc301f3a7e"
   },
   "source": [
    "Therefore we could conclude that the positive reviews are way more than the negative reviews."
   ]
  },
  {
   "cell_type": "markdown",
   "metadata": {
    "_cell_guid": "7cce8b11-d6fa-4f59-aa45-be2b218bf9de",
    "_uuid": "c7e40aee-645d-46a8-a94a-90c329e60ebc"
   },
   "source": [
    "## Popular words in Review"
   ]
  },
  {
   "cell_type": "markdown",
   "metadata": {
    "_cell_guid": "d2456a96-e913-4d1d-a13b-4bb39429292e",
    "_uuid": "dbc48a65-0e08-4b58-9694-32dece314799"
   },
   "source": [
    "A look at the post popular words in positive (4-5 stars) and negative (1-2 stars) reviews shows that both positive and negative reviews share many popular words, such as \"coffee\", \"taste\", \"flavor\", \"price\", \"good\", and \"product.\" The words \"good\", \"great\", \"love\", \"favorite\", and \"find\" are indicative of positive reviews, while negative reviews contain words such as \"didn't\" and \"disappointed\", but these distinguishing words appear less frequently than distinguishing words in positive reviews."
   ]
  },
  {
   "cell_type": "code",
   "execution_count": 0,
   "metadata": {
    "_cell_guid": "92e8d36a-8af5-4165-ab7b-e80a51e2e65b",
    "_uuid": "a659aa4a-5253-403b-b6c1-1c30b5ee6a75"
   },
   "outputs": [],
   "source": [
    "pos = temp_df.loc[temp_df['Sentiment'] == 'positive']\n",
    "pos = pos[0:25000]\n",
    "\n",
    "neg = temp_df.loc[temp_df['Sentiment'] == 'negative']\n",
    "neg = neg[0:25000]"
   ]
  },
  {
   "cell_type": "code",
   "execution_count": 0,
   "metadata": {
    "_cell_guid": "c47e2a21-db7b-4228-9790-957f695a11da",
    "_uuid": "e6dabebc-ec5d-4e84-a67d-6bcef6f961b7"
   },
   "outputs": [],
   "source": [
    "import nltk\n",
    "from nltk.corpus import stopwords\n",
    "from wordcloud import WordCloud\n",
    "import string\n",
    "import matplotlib.pyplot as plt\n",
    "\n",
    "\n",
    "def create_Word_Corpus(temp):\n",
    "    words_corpus = ''\n",
    "    for val in temp[\"Summary\"]:\n",
    "        text = str(val).lower()\n",
    "        #text = text.translate(trantab)\n",
    "        tokens = nltk.word_tokenize(text)\n",
    "        tokens = [word for word in tokens if word not in stopwords.words('english')]\n",
    "        for words in tokens:\n",
    "            words_corpus = words_corpus + words + ' '\n",
    "    return words_corpus\n",
    "        \n",
    "# Generate a word cloud image\n",
    "pos_wordcloud = WordCloud(width=900, height=500).generate(create_Word_Corpus(pos))\n",
    "neg_wordcloud = WordCloud(width=900, height=500).generate(create_Word_Corpus(neg))"
   ]
  },
  {
   "cell_type": "code",
   "execution_count": 0,
   "metadata": {
    "_cell_guid": "3f3bb319-7997-41cd-a9e6-ec48e0d012f7",
    "_uuid": "1344e951-a573-43bb-924b-8606c5a3f081"
   },
   "outputs": [],
   "source": [
    "# Plot cloud\n",
    "def plot_Cloud(wordCloud):\n",
    "    plt.figure( figsize=(20,10), facecolor='w')\n",
    "    plt.imshow(wordCloud)\n",
    "    plt.axis(\"off\")\n",
    "    plt.tight_layout(pad=0)\n",
    "    plt.show()"
   ]
  },
  {
   "cell_type": "code",
   "execution_count": 0,
   "metadata": {
    "_cell_guid": "d7a9fb32-3dbd-417a-b522-9c7efd61ad0e",
    "_uuid": "c9320978-3822-489f-b062-8ec681f4bf50"
   },
   "outputs": [],
   "source": [
    "#Visuallizing popular positive words\n",
    "plot_Cloud(pos_wordcloud)"
   ]
  },
  {
   "cell_type": "code",
   "execution_count": 0,
   "metadata": {
    "_cell_guid": "b8231956-c4aa-45d5-b102-4908ff2dee2c",
    "_uuid": "510e2a7a-94ec-4e33-a506-fbb6fcc1b4e6",
    "scrolled": false
   },
   "outputs": [],
   "source": [
    "#Visuallizing popular negative words\n",
    "plot_Cloud(neg_wordcloud)"
   ]
  },
  {
   "cell_type": "markdown",
   "metadata": {
    "_cell_guid": "440f1c65-7a24-451d-8548-57d5427dd55e",
    "_uuid": "de708c07-7199-4864-96fd-aa7534843dd1"
   },
   "source": [
    "## Helpfulness"
   ]
  },
  {
   "cell_type": "markdown",
   "metadata": {
    "_cell_guid": "4d9278ff-8812-4c3b-b984-418b41ae64c9",
    "_uuid": "04f2c45a-4a12-4c1d-9b98-9077197032f6"
   },
   "source": [
    "### How many reviews are helpful?"
   ]
  },
  {
   "cell_type": "markdown",
   "metadata": {
    "_cell_guid": "622825a2-46d2-45b7-b1cc-f211fda6d9d3",
    "_uuid": "7f1358b4-e031-4d2c-b46f-3a509f298ca1"
   },
   "source": [
    "Among all reviews, almost half (50%) are not voted on at all.<br />\n",
    "Among reviews that are voted on, helpful reviews(>75%) are the most common"
   ]
  },
  {
   "cell_type": "code",
   "execution_count": 0,
   "metadata": {
    "_cell_guid": "803a97eb-ad85-4d2f-98af-315f21544009",
    "_uuid": "6c6b64e3-079f-4d25-a733-a008bde8fafa"
   },
   "outputs": [],
   "source": [
    "#Checking the value count for 'Usefulness'\n",
    "temp_df.Usefulness.value_counts()"
   ]
  },
  {
   "cell_type": "code",
   "execution_count": 0,
   "metadata": {
    "_cell_guid": "5d5d66bb-a0bf-4e20-a16e-2ef4e4c27182",
    "_uuid": "cc0744e6-5d11-42f4-92b0-aa8f3c465150",
    "scrolled": false
   },
   "outputs": [],
   "source": [
    "sns.countplot(x='Usefulness', order=['useless', '>75%', '25-75%', '<25%'], data=temp_df, palette='RdBu')\n",
    "plt.xlabel('Usefulness')\n",
    "plt.show()"
   ]
  },
  {
   "cell_type": "markdown",
   "metadata": {
    "_cell_guid": "594a69a4-ed18-4b69-bc95-44a1cf8792fb",
    "_uuid": "a5179fc5-f910-46f0-a50f-a14bca21a1f5"
   },
   "source": [
    "### Positive reviews are found more helpful"
   ]
  },
  {
   "cell_type": "markdown",
   "metadata": {
    "_cell_guid": "1c4495a2-6372-42d9-855e-583ef0868d68",
    "_uuid": "eb8974e4-8d4d-49ae-bee3-1cffa5dc35a3"
   },
   "source": [
    "As the rating becomes more positive, the reviews become more helpful (and less unhelpful)."
   ]
  },
  {
   "cell_type": "code",
   "execution_count": 0,
   "metadata": {
    "_cell_guid": "bd236184-ab13-4a3f-baab-adc9355ed26f",
    "_uuid": "75c6a185-3ee0-47ec-ae12-cf16699af16d"
   },
   "outputs": [],
   "source": [
    "temp_df[temp_df.Score==5].Usefulness.value_counts()"
   ]
  },
  {
   "cell_type": "code",
   "execution_count": 0,
   "metadata": {
    "_cell_guid": "5ed9be05-88a4-4b31-87f2-0d9f14c7295e",
    "_uuid": "6214bee0-f18e-40f6-9297-bdef5761736a"
   },
   "outputs": [],
   "source": [
    "temp_df[temp_df.Score==2].Usefulness.value_counts()"
   ]
  },
  {
   "cell_type": "code",
   "execution_count": 0,
   "metadata": {
    "_cell_guid": "64a254a9-8afd-4f62-92ab-8efd1b4cce8f",
    "_uuid": "8b9c6ca8-4e32-4bc1-a945-fb2b01ec7317",
    "scrolled": false
   },
   "outputs": [],
   "source": [
    "sns.countplot(x='Sentiment', hue='Usefulness', order=[\"positive\", \"negative\"], \\\n",
    "              hue_order=['>75%', '25-75%', '<25%'], data=temp_df, palette='RdBu')\n",
    "plt.xlabel('Sentiment')\n",
    "plt.show()"
   ]
  },
  {
   "cell_type": "markdown",
   "metadata": {
    "_cell_guid": "f951309c-2e99-4435-a90f-cb8f468e02b7",
    "_uuid": "ae2823e9-8533-4bc5-bde4-2be1a08f4ecf"
   },
   "source": [
    "Therefore positive reviews are more helpful."
   ]
  },
  {
   "cell_type": "markdown",
   "metadata": {
    "_cell_guid": "e35f0e1e-3770-406c-919c-7ec5426dc1ca",
    "_uuid": "cb9192e0-5a0c-47ef-b125-3ed51f38a4e3"
   },
   "source": [
    "## Word Count"
   ]
  },
  {
   "cell_type": "code",
   "execution_count": 0,
   "metadata": {
    "_cell_guid": "c80f4b66-84ef-4715-8b9c-14b94057c4cd",
    "_uuid": "28e3aecf-635b-4db7-bccd-56aae5e0c638"
   },
   "outputs": [],
   "source": [
    "temp_df[\"text_word_count\"] = temp_df[\"Text\"].apply(lambda text: len(text.split()))"
   ]
  },
  {
   "cell_type": "code",
   "execution_count": 0,
   "metadata": {
    "_cell_guid": "4049c895-eb93-43e6-843b-df693bd7e078",
    "_uuid": "7cb8ca6e-f2f3-4f0a-8fa4-5359534c456a"
   },
   "outputs": [],
   "source": [
    "temp_df.head()"
   ]
  },
  {
   "cell_type": "code",
   "execution_count": 0,
   "metadata": {
    "_cell_guid": "2683f805-a98a-4e78-9bb6-e78e28601836",
    "_uuid": "3282a084-54d4-49c1-90dd-706c8b0d16d7",
    "scrolled": true
   },
   "outputs": [],
   "source": [
    "temp_df[temp_df.Score==5].text_word_count.median()"
   ]
  },
  {
   "cell_type": "code",
   "execution_count": 0,
   "metadata": {
    "_cell_guid": "d241ab58-f700-4d42-a5e4-a4604dd6c671",
    "_uuid": "08d3a10e-d01f-48be-9553-bdd53dc5f386"
   },
   "outputs": [],
   "source": [
    "temp_df[temp_df.Score==4].text_word_count.median()"
   ]
  },
  {
   "cell_type": "code",
   "execution_count": 0,
   "metadata": {
    "_cell_guid": "3019f61e-88f5-4e30-a8cc-69ea1c36eb42",
    "_uuid": "b9bb6d6c-c580-413b-8dd1-4f47e8abdbfc"
   },
   "outputs": [],
   "source": [
    "temp_df[temp_df.Score==3].text_word_count.median()"
   ]
  },
  {
   "cell_type": "code",
   "execution_count": 0,
   "metadata": {
    "_cell_guid": "f6c1ef6e-f7ad-430f-97e8-8744c9e61706",
    "_uuid": "6c89d37e-0d33-48be-b026-b62361700933"
   },
   "outputs": [],
   "source": [
    "temp_df[temp_df.Score==2].text_word_count.median()"
   ]
  },
  {
   "cell_type": "code",
   "execution_count": 0,
   "metadata": {
    "_cell_guid": "23116994-4a83-426e-a06f-d9ca2ba7e355",
    "_uuid": "96798b6c-701e-4798-bd7f-3e97ba7dddad"
   },
   "outputs": [],
   "source": [
    "temp_df[temp_df.Score==1].text_word_count.median()"
   ]
  },
  {
   "cell_type": "code",
   "execution_count": 0,
   "metadata": {
    "_cell_guid": "3e27f11f-e5f5-4473-abcd-a1236b25406b",
    "_uuid": "369d78f6-a806-47c9-93e7-9e8f586327ea"
   },
   "outputs": [],
   "source": [
    "sns.boxplot(x='Score',y='text_word_count', data=temp_df, palette='RdBu', showfliers=False)\n",
    "plt.show()"
   ]
  },
  {
   "cell_type": "markdown",
   "metadata": {
    "_cell_guid": "a72a9b9e-799c-4350-a88a-86a82832fa78",
    "_uuid": "1d7eedb5-6a88-4d3e-bf89-04b93244365e"
   },
   "source": [
    "Observations: 5-star reviews had the lowest median word count (52 words), while 3-star reviews had the largest median word count (70 words)."
   ]
  },
  {
   "cell_type": "markdown",
   "metadata": {
    "_cell_guid": "e6b619bc-85cc-47e5-9932-b1144df08888",
    "_uuid": "17bc841a-c9ff-40b5-b8d9-2dfd2074e925"
   },
   "source": [
    "### How does word count relate to helpfulness?"
   ]
  },
  {
   "cell_type": "markdown",
   "metadata": {
    "_cell_guid": "cef6467a-df0b-4f3f-befa-69b00b5cf273",
    "_uuid": "45953a2f-3055-4a97-8f02-b0c38e07a5aa"
   },
   "source": [
    "The word counts for helpful reviews and not helpful reviews have a similar distribution with the greatest concentration of reviews of approximately 25 words. However, not helpful reviews have a larger concentration of reviews with low word count and helpful reviews have more longer reviews. Helpful reviews have a higher median word count (67 words) than not helpful reviews (54 words)."
   ]
  },
  {
   "cell_type": "code",
   "execution_count": 0,
   "metadata": {
    "_cell_guid": "e0871cf8-f840-4cbb-895f-00ad80432b55",
    "_uuid": "90b7c102-d0d5-489c-833f-322de2f2bdd5"
   },
   "outputs": [],
   "source": [
    "sns.violinplot(x='Usefulness', y='text_word_count', order=[\">75%\", \"<25%\"], \\\n",
    "               data=temp_df, palette='RdBu')\n",
    "plt.ylim(-50, 400)\n",
    "plt.show()"
   ]
  },
  {
   "cell_type": "markdown",
   "metadata": {
    "_cell_guid": "790ef4f4-4845-4369-b59c-85ada40c25f2",
    "_uuid": "ed4191ee-1883-4bf3-b3ec-921ce41a9d0a"
   },
   "source": [
    "## Frequency of reviewers"
   ]
  },
  {
   "cell_type": "markdown",
   "metadata": {
    "_cell_guid": "44856db2-7c6b-46a6-a801-e0746aa70f1c",
    "_uuid": "6988d981-0829-47c3-af32-72508c73dd4c"
   },
   "source": [
    "Using User IDs, one can recognize repeat reviewers. Reviewers that have reviewed over 50 products account for over 5% of all reviews in the database. We will call such reviewers frequent reviewers. (The cutoff choice of 50, as opposed to another choice, seemed to not have a larger impact on the results.) I asked: Does the behavior of frequent reviewers differ from that of infrequent reviewers?"
   ]
  },
  {
   "cell_type": "code",
   "execution_count": 0,
   "metadata": {
    "_cell_guid": "0b4bdca4-99be-41ac-9c86-48930b517953",
    "_uuid": "d4b5e63c-5a2a-4bee-b4c7-f7cb9923ffc7"
   },
   "outputs": [],
   "source": [
    "x = temp_df.UserId.value_counts()\n",
    "x.to_dict()\n",
    "print(\"converted Series to dictionary\")"
   ]
  },
  {
   "cell_type": "code",
   "execution_count": 0,
   "metadata": {
    "_cell_guid": "57674956-81b1-4f33-9ff3-67468e58bd76",
    "_uuid": "4f29cfaa-62ae-46a6-be07-9c930f7de83d"
   },
   "outputs": [],
   "source": [
    "temp_df[\"reviewer_freq\"] = temp_df[\"UserId\"].apply(lambda counts: \"Frequent (>50 reviews)\" \\\n",
    "                                                                 if x[counts]>50 else \"Not Frequent (1-50)\")"
   ]
  },
  {
   "cell_type": "code",
   "execution_count": 0,
   "metadata": {
    "_cell_guid": "1d2cc436-b89d-4b5c-92fe-91a35fd443db",
    "_uuid": "1cd414b3-5729-4fd3-a2c3-d73e0545eeee"
   },
   "outputs": [],
   "source": [
    "temp_df.head()"
   ]
  },
  {
   "cell_type": "markdown",
   "metadata": {
    "_cell_guid": "accb66d1-51dc-4dd3-bb2b-fb20d6ddce2b",
    "_uuid": "65a81e06-8105-4515-b36b-218668f3c8b8"
   },
   "source": [
    "### Are frequent reviewers more discerning?"
   ]
  },
  {
   "cell_type": "markdown",
   "metadata": {
    "_cell_guid": "36ab27cc-d883-4211-90fb-368056f8829f",
    "_uuid": "b2cc3745-af3f-438e-bc86-bb06cbb9bc27"
   },
   "source": [
    "The distribution of ratings among frequent reviewers is similar to that of all reviews. However, we can see that frequent reviewers give less 5-star reviews and less 1-star review. Frequent users appear to be more discerning in the sense that they give less extreme reviews than infrequent reviews."
   ]
  },
  {
   "cell_type": "code",
   "execution_count": 0,
   "metadata": {
    "_cell_guid": "eb4b902d-2e1c-48c0-8eda-d18c88d18b19",
    "_uuid": "7844f6af-fba7-4b17-aea5-67651efab4db"
   },
   "outputs": [],
   "source": [
    "ax = sns.countplot(x='Score', hue='reviewer_freq', data=temp_df, palette='RdBu')\n",
    "ax.set_xlabel('Score (Rating)')\n",
    "plt.show()"
   ]
  },
  {
   "cell_type": "code",
   "execution_count": 0,
   "metadata": {
    "_cell_guid": "9b168c44-4dbf-4659-bb51-2ba1ba84c06b",
    "_uuid": "01f34705-7d7a-4d70-a306-104a60b1f5bb"
   },
   "outputs": [],
   "source": [
    "y = temp_df[temp_df.reviewer_freq==\"Frequent (>50 reviews)\"].Score.value_counts()\n",
    "z = temp_df[temp_df.reviewer_freq==\"Not Frequent (1-50)\"].Score.value_counts()\n",
    "\n",
    "tot_y = y.sum()\n",
    "\n",
    "y = (y/tot_y)*100\n",
    "\n",
    "tot_z = z.sum()\n",
    "\n",
    "z = (z/tot_z)*100\n",
    "\n",
    "ax1 = plt.subplot(121)\n",
    "y.plot(kind=\"bar\",ax=ax1)\n",
    "plt.xlabel(\"Score\")\n",
    "plt.ylabel(\"Percentage\")\n",
    "plt.title(\"Frequent (>50 reviews) Distribution\")\n",
    "\n",
    "ax2 = plt.subplot(122)\n",
    "z.plot(kind=\"bar\",ax=ax2)\n",
    "plt.xlabel(\"Score\")\n",
    "plt.ylabel(\"Percentage\")\n",
    "plt.title(\"Not Frequent (1-50) Distribution\")\n",
    "plt.show()"
   ]
  },
  {
   "cell_type": "markdown",
   "metadata": {
    "_cell_guid": "802df329-0148-4a96-bfe3-9e7148a071f5",
    "_uuid": "d7e3f276-9ef8-4613-bbd7-c1f747aaf44b"
   },
   "source": [
    "### Are frequent reviewers more helpful?"
   ]
  },
  {
   "cell_type": "markdown",
   "metadata": {
    "_cell_guid": "af67cdc0-a4ef-4229-9f5f-64ccdeee5a96",
    "_uuid": "26912e3d-1d0a-427e-ba42-78a7ca5cabce"
   },
   "source": [
    "The distribution of helpfulness for frequent reviewers is similar to that of all reviews. However, frequent reviewers are more likely to have their review voted on and when voted on, more likely to be voted helpful, and less likely to be unhelpful."
   ]
  },
  {
   "cell_type": "code",
   "execution_count": 0,
   "metadata": {
    "_cell_guid": "e406c17b-fe50-466c-9314-66d52fa81fe8",
    "_uuid": "9d1d2ad1-12ab-45c7-b23e-76242e4aeb28"
   },
   "outputs": [],
   "source": [
    "sns.countplot(x='Usefulness', order=['useless', '>75%', '25-75%', '<25%'], \\\n",
    "              hue='reviewer_freq', data=temp_df, palette='RdBu')\n",
    "plt.xlabel('Helpfulness')\n",
    "plt.show()"
   ]
  },
  {
   "cell_type": "markdown",
   "metadata": {
    "_cell_guid": "d1f84872-361d-44f4-8d35-b3720e15765f",
    "_uuid": "81704757-9992-40d4-af75-778a5420922b"
   },
   "source": [
    "### Are frequent reviewers more verbose?"
   ]
  },
  {
   "cell_type": "markdown",
   "metadata": {
    "_cell_guid": "63fae189-993f-4f23-9713-1c80ed83852d",
    "_uuid": "481c1f43-364c-4bce-baba-a0cf36798546"
   },
   "source": [
    "The distributions of word counts for frequent and infrequent reviews shows that infrequent reviewers have a large amount of reviews of low word count. On the other hand, the largest concentration of word count is higher for frequent reviewers than for infrequent reviews. Moreover, the median word count for frequent reviewers is higher than the median for infrequent reviewers."
   ]
  },
  {
   "cell_type": "code",
   "execution_count": 0,
   "metadata": {
    "_cell_guid": "02357091-d27f-41a4-a523-f15a3ff00581",
    "_uuid": "44e19b0e-3223-431a-9628-ec20ec7d0520"
   },
   "outputs": [],
   "source": [
    "sns.violinplot(x='reviewer_freq', y='text_word_count',  \\\n",
    "               data=temp_df, palette='RdBu')\n",
    "plt.xlabel('Frequency of Reviewer')\n",
    "plt.ylim(-50, 400)\n",
    "plt.show()"
   ]
  },
  {
   "cell_type": "markdown",
   "metadata": {
    "_cell_guid": "dd7ca185-0955-42f9-9044-35d6ee7ef5d5",
    "_uuid": "73702f04-6447-4b38-ae30-b08d97110b45"
   },
   "source": [
    "## Conclusion"
   ]
  },
  {
   "cell_type": "markdown",
   "metadata": {
    "_cell_guid": "682bfdd9-b39d-431b-b1aa-cb1dbb900180",
    "_uuid": "3dd96001-8c59-4819-9e05-cd72417a1dd7"
   },
   "source": [
    "<pre>\n",
    "a. Positive reviews are very common.\n",
    "b. Positive reviews are shorter.\n",
    "c. Longer reviews are more helpful.\n",
    "d. Despite being more common and shorter, positive reviews are found more helpful.\n",
    "e. Frequent reviewers are more discerning in their ratings, write longer reviews, and write more helpful reviews\n",
    "</pre>"
   ]
  }
 ],
 "metadata": {
  "kernelspec": {
   "display_name": "Python 3",
   "language": "python",
   "name": "python3"
  },
  "language_info": {
   "codemirror_mode": {
    "name": "ipython",
    "version": 3
   },
   "file_extension": ".py",
   "mimetype": "text/x-python",
   "name": "python",
   "nbconvert_exporter": "python",
   "pygments_lexer": "ipython3",
   "version": "3.7.5"
  }
 },
 "nbformat": 4,
 "nbformat_minor": 1
}
