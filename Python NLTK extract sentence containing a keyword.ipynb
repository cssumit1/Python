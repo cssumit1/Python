{
 "cells": [
  {
   "cell_type": "markdown",
   "id": "d3f27a14",
   "metadata": {},
   "source": [
    "# Python NLTK extract sentence containing a keyword"
   ]
  },
  {
   "cell_type": "code",
   "execution_count": 3,
   "id": "2952117f",
   "metadata": {},
   "outputs": [],
   "source": [
    "searchFile = open('keywords.txt','r')\n",
    "file = open('corpodssqlprd01_cluster.log','r') \n",
    "file1 = file.readlines()  \n",
    "file.close()\n",
    "for key in searchFile:\n",
    "    for line in file1:\n",
    "        if key in line:\n",
    "             print (line)"
   ]
  },
  {
   "cell_type": "code",
   "execution_count": null,
   "id": "a35c3eb6",
   "metadata": {},
   "outputs": [],
   "source": []
  },
  {
   "cell_type": "code",
   "execution_count": null,
   "id": "4de2d083",
   "metadata": {},
   "outputs": [],
   "source": []
  }
 ],
 "metadata": {
  "kernelspec": {
   "display_name": "Python 3 (ipykernel)",
   "language": "python",
   "name": "python3"
  },
  "language_info": {
   "codemirror_mode": {
    "name": "ipython",
    "version": 3
   },
   "file_extension": ".py",
   "mimetype": "text/x-python",
   "name": "python",
   "nbconvert_exporter": "python",
   "pygments_lexer": "ipython3",
   "version": "3.9.5"
  }
 },
 "nbformat": 4,
 "nbformat_minor": 5
}
