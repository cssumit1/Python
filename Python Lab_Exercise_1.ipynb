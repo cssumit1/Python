{
 "cells": [
  {
   "cell_type": "markdown",
   "metadata": {},
   "source": [
    "# Lab_Exercise_1\n",
    "## Sumit Kumar"
   ]
  },
  {
   "cell_type": "markdown",
   "metadata": {},
   "source": [
    "## Program to calculate sum of first n natural numbers in Python"
   ]
  },
  {
   "cell_type": "code",
   "execution_count": 8,
   "metadata": {},
   "outputs": [
    {
     "name": "stdout",
     "output_type": "stream",
     "text": [
      "Enter the Natural Number: 30\n",
      "The sum is 465\n"
     ]
    }
   ],
   "source": [
    "#1 Program to calculate sum of first n natural numbers in Python\n",
    "# Sum of natural numbers up to num\n",
    "num = int(input(\"Enter the Natural Number: \"))\n",
    "\n",
    "if num < 0:\n",
    "   print(\"Enter a positive number\")\n",
    "else:\n",
    "   sum = 0\n",
    "   # use while loop to iterate until zero\n",
    "   while(num > 0):\n",
    "       sum += num\n",
    "       num -= 1\n",
    "   print(\"The sum is\", sum)"
   ]
  },
  {
   "cell_type": "markdown",
   "metadata": {},
   "source": [
    "## Python program to find the largest number among the three input numbers"
   ]
  },
  {
   "cell_type": "code",
   "execution_count": 2,
   "metadata": {},
   "outputs": [
    {
     "name": "stdout",
     "output_type": "stream",
     "text": [
      "Enter number of elements:3\n",
      "Enter element:22\n",
      "Enter element:3\n",
      "Enter element:12\n",
      "Largest element is: 22\n"
     ]
    }
   ],
   "source": [
    "#2 Python program to find the largest number among the three input numbers\n",
    "\n",
    "a=[]\n",
    "n=int(input(\"Enter number of elements:\"))\n",
    "for i in range(1,n+1):\n",
    "    b=int(input(\"Enter element:\"))\n",
    "    a.append(b)\n",
    "a.sort()\n",
    "print(\"Largest element is:\",a[n-1])\n"
   ]
  },
  {
   "cell_type": "markdown",
   "metadata": {},
   "source": [
    "## Python program to Print Multiplication table of a given number"
   ]
  },
  {
   "cell_type": "code",
   "execution_count": 3,
   "metadata": {},
   "outputs": [
    {
     "name": "stdout",
     "output_type": "stream",
     "text": [
      "Enter the Number to get Multiplication table: 15\n",
      "15 x 1 = 15\n",
      "15 x 2 = 30\n",
      "15 x 3 = 45\n",
      "15 x 4 = 60\n",
      "15 x 5 = 75\n",
      "15 x 6 = 90\n",
      "15 x 7 = 105\n",
      "15 x 8 = 120\n",
      "15 x 9 = 135\n",
      "15 x 10 = 150\n"
     ]
    }
   ],
   "source": [
    "#3 Python program to Print Multiplication table of a given number\n",
    "\n",
    "# Multiplication table (from 1 to 10) in Python\n",
    "\n",
    "num = int(input(\"Enter the Number to get Multiplication table: \"))\n",
    "\n",
    "# To take input from the user\n",
    "# num = int(input(\"Display multiplication table of? \"))\n",
    "\n",
    "# Iterate 10 times from i = 1 to 10\n",
    "for i in range (1, 11):\n",
    "   print(num, 'x', i, '=', num*i)\n"
   ]
  },
  {
   "cell_type": "markdown",
   "metadata": {},
   "source": [
    "## Python Program to Check If a number is Prime or not"
   ]
  },
  {
   "cell_type": "code",
   "execution_count": 9,
   "metadata": {},
   "outputs": [
    {
     "name": "stdout",
     "output_type": "stream",
     "text": [
      "Enter any number: 4\n",
      "4 is not a prime number\n"
     ]
    }
   ],
   "source": [
    "#A prime number is always positive so we are checking that in the beginning of the program. \n",
    "#We are dividing the input number by all the numbers in the range of 2 to (number – 1) to see whether there are any positive divisors other than 1 and number itself.\n",
    "\n",
    "# Enter Your Input values as Number\n",
    "number = int(input(\"Enter any number: \"))\n",
    "\n",
    "# prime number is always greater than 1\n",
    "# If num is divisible by any number between  \n",
    "# 2 and n / 2, it is not prime  \n",
    "if number > 1:\n",
    "    #if the number is greater than 1 \n",
    "     #Iterate from 2 to n / 2  \n",
    "    for i in range(2, number):\n",
    "        if (number % i) == 0:\n",
    "            print(number, \"is not a prime number\")\n",
    "            break\n",
    "    else:\n",
    "        print(number, \"is a prime number\")\n",
    "\n",
    "# if the entered number is less than or equal to 1\n",
    "# then it is not prime number\n",
    "else:\n",
    "    print(number, \"is not a prime number\")"
   ]
  },
  {
   "cell_type": "markdown",
   "metadata": {},
   "source": [
    "## Python Program to Find Factorial of Number\n",
    "\n",
    "Factorial of a non-negative integer, is multiplication of all integers smaller than or equal to n. For example factorial of 6 is 6*5*4*3*2*1 which is 720."
   ]
  },
  {
   "cell_type": "code",
   "execution_count": 1,
   "metadata": {},
   "outputs": [
    {
     "name": "stdout",
     "output_type": "stream",
     "text": [
      "Enter any number: 6\n",
      "The factorial of 6 is 720\n"
     ]
    }
   ],
   "source": [
    "# Python program to find the factorial of a number provided by the user.\n",
    "\n",
    "# To take input from the user\n",
    "#num = int(input(\"Enter a number: \"))\n",
    "\n",
    "# Enter Your Input values as Number\n",
    "num = int(input(\"Enter any number: \"))\n",
    "\n",
    "factorial = 1\n",
    "\n",
    "# check if the number is negative, positive or zero\n",
    "if num < 0:\n",
    "   print(\"Sorry, factorial does not exist for negative numbers\")\n",
    "elif num == 0:\n",
    "   print(\"The factorial of 0 is 1\")\n",
    "else:\n",
    "   for i in range(1,num + 1):\n",
    "       factorial = factorial*i\n",
    "   print(\"The factorial of\",num,\"is\",factorial)"
   ]
  },
  {
   "cell_type": "markdown",
   "metadata": {},
   "source": [
    "## Python program to perform arithmetic operations."
   ]
  },
  {
   "cell_type": "code",
   "execution_count": 12,
   "metadata": {},
   "outputs": [
    {
     "name": "stdout",
     "output_type": "stream",
     "text": [
      "Enter First number: 10\n",
      "Enter Second number 4\n",
      "Sum of  10 and 4 is : 14\n",
      "Difference of  10 and 4 is : 6\n",
      "Multiplication of 10 and 4 is : 40\n",
      "Division of  10 and 4 is : 2.5\n"
     ]
    }
   ],
   "source": [
    "# Python program to perform arithmetic operations(addition, subtraction, multiplication and division)\n",
    "\n",
    "Number1 = int(input('Enter First number: '))\n",
    "Number2 = int(input('Enter Second number '))\n",
    "addition = Number1 + Number2\n",
    "subtraction = Number1 - Number2\n",
    "multiplication = Number1 * Number2\n",
    "division = Number1 / Number2\n",
    "print('Sum of ',Number1 ,'and' ,Number2 ,'is :',addition)\n",
    "print('Difference of ',Number1 ,'and' ,Number2 ,'is :',subtraction)\n",
    "print('Multiplication of' ,Number1 ,'and' ,Number2 ,'is :',multiplication)\n",
    "print('Division of ',Number1 ,'and' ,Number2 ,'is :',division)"
   ]
  },
  {
   "cell_type": "markdown",
   "metadata": {},
   "source": [
    "## Python program to calculate simple interest "
   ]
  },
  {
   "cell_type": "code",
   "execution_count": 13,
   "metadata": {},
   "outputs": [
    {
     "name": "stdout",
     "output_type": "stream",
     "text": [
      "Enter the principal amount : 300000\n",
      "Enter the number of years : 1\n",
      "Enter the rate of interest : 12\n",
      "Simple interest : 36000.0\n"
     ]
    }
   ],
   "source": [
    "#P is the principal amount\n",
    "#N is the time \n",
    "#R is the rate\n",
    "\n",
    "P = float(input(\"Enter the principal amount : \"))\n",
    "N = float(input(\"Enter the number of years : \"))\n",
    "R = float(input(\"Enter the rate of interest : \"))\n",
    "\n",
    "#2 Calcuate the sample interest \n",
    "\n",
    "SI = (P * N * R)/100\n",
    "print(\"Simple interest : {}\".format(SI))"
   ]
  },
  {
   "cell_type": "markdown",
   "metadata": {},
   "source": [
    "## Python program to check whether the given number is odd or even"
   ]
  },
  {
   "cell_type": "code",
   "execution_count": 15,
   "metadata": {},
   "outputs": [
    {
     "name": "stdout",
     "output_type": "stream",
     "text": [
      "Enter a number: 88\n",
      "This is an even number.\n"
     ]
    }
   ],
   "source": [
    "#Python: Find whether a given number is even or odd, print out an appropriate message to the user\n",
    "\n",
    "num = int(input(\"Enter a number: \"))\n",
    "mod = num % 2\n",
    "if mod > 0:\n",
    "    print(\"This is an odd number.\")\n",
    "else:\n",
    "    print(\"This is an even number.\")"
   ]
  },
  {
   "cell_type": "markdown",
   "metadata": {},
   "source": [
    "## Python program to find GCD of two numbers"
   ]
  },
  {
   "cell_type": "code",
   "execution_count": 17,
   "metadata": {},
   "outputs": [
    {
     "name": "stdout",
     "output_type": "stream",
     "text": [
      "Enter 1st number: 4\n",
      "Enter 2nd number: 36\n",
      "GCD is 4\n"
     ]
    }
   ],
   "source": [
    "#we will learn how to find the GCD of two numbers in Python programming.\n",
    "# Python Program to find GCD of Two Numbers using While loop\n",
    "num1 = int(input(\"Enter 1st number: \"))\n",
    "num2 = int(input(\"Enter 2nd number: \"))\n",
    "i = 1\n",
    "while(i <= num1 and i <= num2):\n",
    "  if(num1 % i == 0 and num2 % i == 0):\n",
    "    gcd = i\n",
    "  i = i + 1\n",
    "print(\"GCD is\", gcd)"
   ]
  },
  {
   "cell_type": "markdown",
   "metadata": {},
   "source": [
    "## Python program to assign grades to a student using Nested If Else statement."
   ]
  },
  {
   "cell_type": "code",
   "execution_count": 21,
   "metadata": {},
   "outputs": [
    {
     "name": "stdout",
     "output_type": "stream",
     "text": [
      "What is your grade?: 80\n",
      "Grade: B\n"
     ]
    }
   ],
   "source": [
    "#Python - Program That Prints Grade Using Nested If-Else Statements\n",
    "\n",
    "#The grade is assigned using the following rules:\n",
    "#PERCENTAGE\tGRADE\n",
    "#90 and above\tA\n",
    "#80 to 89\t\t        B\n",
    "#60 to 79\t\t        C\n",
    "#40 – 59\t\t        D\n",
    "#below 40\t\tF\n",
    "\n",
    "x = int(input(\"What is your grade?: \"))\n",
    "def grade(x):\n",
    "    if x >= 90:\n",
    "            return \"A\"\n",
    "    elif x >= 80:\n",
    "        return \"B\"\n",
    "    elif x >= 60:\n",
    "            return \"C\"\n",
    "    elif x >= 40:\n",
    "        return \"D\"\n",
    "    else:\n",
    "        return \"F\"\n",
    "\n",
    "print( \"Grade:\", grade(x))"
   ]
  }
 ],
 "metadata": {
  "kernelspec": {
   "display_name": "Python 3",
   "language": "python",
   "name": "python3"
  },
  "language_info": {
   "codemirror_mode": {
    "name": "ipython",
    "version": 3
   },
   "file_extension": ".py",
   "mimetype": "text/x-python",
   "name": "python",
   "nbconvert_exporter": "python",
   "pygments_lexer": "ipython3",
   "version": "3.7.5"
  }
 },
 "nbformat": 4,
 "nbformat_minor": 4
}
