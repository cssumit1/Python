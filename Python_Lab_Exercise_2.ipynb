{
 "cells": [
  {
   "cell_type": "markdown",
   "metadata": {},
   "source": [
    "# Lab Exercise-2: \n",
    "## SUMIT KUMAR 203940\n"
   ]
  },
  {
   "cell_type": "markdown",
   "metadata": {},
   "source": [
    "## Python List\n",
    "In this article, we'll learn everything about Python lists, how they are created, slicing of a list, adding or removing elements from them and so on.\n",
    "\n",
    "### Python Collections (Arrays)\n",
    "\n",
    "There are four collection data types in the Python programming language:\n",
    "\n",
    "    List is a collection which is ordered and changeable. Allows duplicate members.\n",
    "    Tuple is a collection which is ordered and unchangeable. Allows duplicate members.\n",
    "    Set is a collection which is unordered and unindexed. No duplicate members.\n",
    "    Dictionary is a collection which is unordered, changeable and indexed. No duplicate members.\n"
   ]
  },
  {
   "cell_type": "markdown",
   "metadata": {},
   "source": [
    "## List\n",
    "A list is a collection which is ordered and changeable. In Python lists are written with square brackets.\n",
    "\n",
    "### 1. Creating a List\n",
    "\n",
    "Lists in Python can be created by just placing the sequence inside the square brackets[]. Unlike Sets, list doesn’t need a built-in function for creation of list. "
   ]
  },
  {
   "cell_type": "code",
   "execution_count": 4,
   "metadata": {},
   "outputs": [
    {
     "name": "stdout",
     "output_type": "stream",
     "text": [
      "Blank List: \n",
      "[]\n",
      "\n",
      "List of numbers: \n",
      "[10, 20, 14]\n",
      "\n",
      "Multi-Dimensional List: \n",
      "[['Geeks', 'For'], ['Geeks']]\n"
     ]
    }
   ],
   "source": [
    "\n",
    "# Python program to demonstrate  \n",
    "# Creation of List  \n",
    "  \n",
    "# Creating a List \n",
    "List = [] \n",
    "print(\"Blank List: \") \n",
    "print(List) \n",
    "  \n",
    "# Creating a List of numbers \n",
    "List = [10, 20, 14] \n",
    "print(\"\\nList of numbers: \") \n",
    "print(List) \n",
    "\n",
    "# Creating a Multi-Dimensional List \n",
    "# (By Nesting a list inside a List) \n",
    "List = [['Geeks', 'For'] , ['Geeks']] \n",
    "print(\"\\nMulti-Dimensional List: \") \n",
    "print(List) \n"
   ]
  },
  {
   "cell_type": "markdown",
   "metadata": {},
   "source": [
    "### 2. Accessing elements from a List (Positive and Negative Indexing)\n",
    "\n",
    "We can use the index operator [] to access an item in a list. In Python, indices start at 0. So, a list having 5 elements will have an index from 0 to 4.\n",
    "\n",
    "Python allows negative indexing for its sequences. The index of -1 refers to the last item, -2 to the second last item and so on."
   ]
  },
  {
   "cell_type": "code",
   "execution_count": 3,
   "metadata": {},
   "outputs": [
    {
     "name": "stdout",
     "output_type": "stream",
     "text": [
      "\n",
      "List Items: \n",
      "Geeks\n",
      "Geeks\n",
      "\n",
      "Negative Indexing Items: \n",
      "Geeks\n",
      "For\n"
     ]
    }
   ],
   "source": [
    "##List Index\n",
    "\n",
    "# Creating a List of strings and accessing using index \n",
    "List = [\"Geeks\", \"For\", \"Geeks\"] \n",
    "print(\"\\nList Items: \")\n",
    "print(List[0])  \n",
    "print(List[2]) \n",
    "\n",
    "#List negative indexing\n",
    "print(\"\\nNegative Indexing Items: \")\n",
    "print(List[-1])\n",
    "print(List[-2])"
   ]
  },
  {
   "cell_type": "markdown",
   "metadata": {},
   "source": [
    "### Slicing Lists\n",
    "We can access a range of items in a list by using the slicing operator :(colon)."
   ]
  },
  {
   "cell_type": "code",
   "execution_count": 5,
   "metadata": {},
   "outputs": [
    {
     "name": "stdout",
     "output_type": "stream",
     "text": [
      "\n",
      "Slicing elements in a range 3-8: \n",
      "['K', 'S', 'F', 'O', 'R']\n"
     ]
    }
   ],
   "source": [
    "# Creating a List \n",
    "List = ['G','E','E','K','S','F', \n",
    "        'O','R','G','E','E','K','S'] \n",
    "\n",
    "# Print elements of a range \n",
    "# using Slice operation \n",
    "Sliced_List = List[3:8] \n",
    "print(\"\\nSlicing elements in a range 3-8: \") \n",
    "print(Sliced_List) "
   ]
  },
  {
   "cell_type": "markdown",
   "metadata": {},
   "source": [
    "### Iterating over List, Concatenating Lists\n",
    "Iterating Through a List - Using a for loop we can iterate through each item in a list."
   ]
  },
  {
   "cell_type": "code",
   "execution_count": 10,
   "metadata": {},
   "outputs": [
    {
     "name": "stdout",
     "output_type": "stream",
     "text": [
      "I love Banana\n",
      "I love Mango\n",
      "I love Apple\n"
     ]
    }
   ],
   "source": [
    "for fruits in [\"Banana\",\"Mango\",\"Apple\"]:\n",
    "    print (\"I love\", fruits)"
   ]
  },
  {
   "cell_type": "code",
   "execution_count": 14,
   "metadata": {},
   "outputs": [
    {
     "name": "stdout",
     "output_type": "stream",
     "text": [
      "[2, 3, 5, 6, 8, 9]\n",
      "[2, 2, 2]\n",
      "['Python', 'Python', 'Python', 'Python']\n"
     ]
    }
   ],
   "source": [
    "#Concatenating Lists\n",
    "List1 = [2,3,5,6]\n",
    "List2 = List1 + [8,9]\n",
    "#Add Both List1 and List2\n",
    "#Print the output\n",
    "print(List2)\n",
    "#Repeat 2 Number 3 times. \n",
    "print([2]*3)\n",
    "#repeat word multiple times\n",
    "print([\"Python\"]*4)"
   ]
  },
  {
   "cell_type": "markdown",
   "metadata": {},
   "source": [
    "### Using append() method\n",
    "\n",
    "Elements can be added to the List by using built-in append() function. Only one element at a time can be added to the list by using append() method"
   ]
  },
  {
   "cell_type": "code",
   "execution_count": 20,
   "metadata": {},
   "outputs": [
    {
     "name": "stdout",
     "output_type": "stream",
     "text": [
      "Initial blank List: \n",
      "[]\n",
      "\n",
      "List after adding 3 new elements:\n",
      "[1, 2, 3]\n"
     ]
    }
   ],
   "source": [
    "### Using append() method\n",
    "\n",
    "#Elements can be added to the List by using built-in append() function. Only one element at a time can be added to the list by using append() method\n",
    "\n",
    "# Python program to demonstrate  \n",
    "# Addition of elements in a List \n",
    "\n",
    "#Creating an empty List\n",
    "List = []\n",
    "print(\"Initial blank List: \")\n",
    "print(List)\n",
    "\n",
    "#Add new Elements to empty List\n",
    "List.append(1)\n",
    "List.append(2)\n",
    "List.append(3)\n",
    "print(\"\\nList after adding 3 new elements:\")\n",
    "print(List)\n",
    "\n"
   ]
  },
  {
   "cell_type": "markdown",
   "metadata": {},
   "source": [
    "### Using insert() method\n",
    "\n",
    "append() method only works for addition of elements at the end of the List, for addition of element at the desired position, insert() method is used. Unlike append() which takes only one argument, insert() method requires two arguments(position, value). \n"
   ]
  },
  {
   "cell_type": "code",
   "execution_count": 26,
   "metadata": {},
   "outputs": [
    {
     "name": "stdout",
     "output_type": "stream",
     "text": [
      "Intial List: \n",
      "[1, 2, 4, 5]\n",
      "\n",
      "List after adding new values:\n",
      "['Start', 1, 2, 3, 4, 5]\n"
     ]
    }
   ],
   "source": [
    "# Python program to demonstrate  \n",
    "# Addition of elements in a List using INSERT\n",
    "\n",
    "List = [1,2,4,5]\n",
    "print(\"Intial List: \")\n",
    "print(List)\n",
    "\n",
    "#Let's add new values to list, we need to define position and value.\n",
    "List.insert(2,3)\n",
    "List.insert(0,\"Start\")\n",
    "print(\"\\nList after adding new values:\")\n",
    "print(List)"
   ]
  },
  {
   "cell_type": "markdown",
   "metadata": {},
   "source": [
    "### Using extend() method\n",
    "\n",
    "Other than append() and insert() methods, there’s one more method for Addition of elements, extend(), this method is used to add multiple elements at the same time at the end of the list."
   ]
  },
  {
   "cell_type": "code",
   "execution_count": 29,
   "metadata": {},
   "outputs": [
    {
     "name": "stdout",
     "output_type": "stream",
     "text": [
      "Intial List:\n",
      "[1, 2, 3, 4, 5]\n",
      "\n",
      "Print List after adding new values:\n",
      "[1, 2, 3, 4, 5, 6, 7, 8, 9, 0]\n"
     ]
    }
   ],
   "source": [
    "# Python program to demonstrate  \n",
    "# Addition of elements in a List using extend function\n",
    "\n",
    "List = [1,2,3,4,5]\n",
    "print(\"Intial List:\")\n",
    "print(List)\n",
    "\n",
    "#Now will add multiple values using extend() function\n",
    "List.extend([6,7,8,9,0])\n",
    "print(\"\\nPrint List after adding new values:\")\n",
    "print(List)"
   ]
  },
  {
   "cell_type": "markdown",
   "metadata": {},
   "source": [
    "##  Removing Elements from the List"
   ]
  },
  {
   "cell_type": "markdown",
   "metadata": {},
   "source": [
    "### Using remove() method\n",
    "\n",
    "Elements can be removed from the List by using built-in remove() function but an Error arises if element doesn’t exist in the set. Remove() method only removes one element at a time, to remove range of elements, iterator is used. The remove() method removes the specified item.\n",
    "\n",
    "Note – Remove method in List will only remove the first occurrence of the searched element."
   ]
  },
  {
   "cell_type": "code",
   "execution_count": 34,
   "metadata": {},
   "outputs": [
    {
     "name": "stdout",
     "output_type": "stream",
     "text": [
      "Initial List:\n",
      "[1, 2, 3, 4, 5, 6, 7, 8, 9]\n",
      "\n",
      "List after removing 2 element:\n",
      "[1, 2, 3, 4, 7, 8, 9]\n",
      "\n",
      "List after Removing a range of elements: \n",
      "[4, 7, 8, 9]\n"
     ]
    }
   ],
   "source": [
    "# Python program to demonstrate  \n",
    "# Removal of elements in a List \n",
    "\n",
    "List = [1,2,3,4,5,6,7,8,9]\n",
    "print(\"Initial List:\")\n",
    "print(List)\n",
    "\n",
    "#Remove element from the list using remove() method\n",
    "List.remove(5)\n",
    "List.remove(6)\n",
    "print(\"\\nList after removing 2 element:\")\n",
    "print(List)\n",
    "\n",
    "# Removing elements from List \n",
    "# using iterator method \n",
    "for i in range(1,4): \n",
    "    List.remove(i) \n",
    "print(\"\\nList after Removing a range of elements: \") \n",
    "print(List) \n"
   ]
  },
  {
   "cell_type": "markdown",
   "metadata": {},
   "source": [
    "### Using pop() method\n",
    "\n",
    "Pop() function can also be used to remove and return an element from the set, but by default it removes only the last element of the set, to remove element from a specific position of the List, index of the element is passed as an argument to the pop() method."
   ]
  },
  {
   "cell_type": "code",
   "execution_count": 35,
   "metadata": {},
   "outputs": [
    {
     "name": "stdout",
     "output_type": "stream",
     "text": [
      "\n",
      "List after popping an element: \n",
      "[1, 2, 3, 4]\n",
      "\n",
      "List after popping a specific element: \n",
      "[1, 2, 4]\n"
     ]
    }
   ],
   "source": [
    "List = [1,2,3,4,5] \n",
    "  \n",
    "# Removing element from the  \n",
    "# Set using the pop() method \n",
    "List.pop() \n",
    "print(\"\\nList after popping an element: \") \n",
    "print(List) \n",
    "  \n",
    "# Removing element at a  \n",
    "# specific location from the  \n",
    "# Set using the pop() method \n",
    "List.pop(2) \n",
    "print(\"\\nList after popping a specific element: \") \n",
    "print(List)"
   ]
  },
  {
   "cell_type": "markdown",
   "metadata": {},
   "source": [
    "### Using del Methom\n",
    "\n",
    "We can delete one or more items from a list using the keyword del"
   ]
  },
  {
   "cell_type": "code",
   "execution_count": 36,
   "metadata": {},
   "outputs": [
    {
     "name": "stdout",
     "output_type": "stream",
     "text": [
      "Intial List:\n",
      "['p', 'r', 'o', 'b', 'l', 'e', 'm']\n",
      "['p', 'r', 'b', 'l', 'e', 'm']\n",
      "['p', 'm']\n"
     ]
    },
    {
     "ename": "NameError",
     "evalue": "name 'my_list' is not defined",
     "output_type": "error",
     "traceback": [
      "\u001b[1;31m---------------------------------------------------------------------------\u001b[0m",
      "\u001b[1;31mNameError\u001b[0m                                 Traceback (most recent call last)",
      "\u001b[1;32m<ipython-input-36-b15113a2d32a>\u001b[0m in \u001b[0;36m<module>\u001b[1;34m\u001b[0m\n\u001b[0;32m     18\u001b[0m \u001b[1;33m\u001b[0m\u001b[0m\n\u001b[0;32m     19\u001b[0m \u001b[1;31m# Error: List not defined\u001b[0m\u001b[1;33m\u001b[0m\u001b[1;33m\u001b[0m\u001b[1;33m\u001b[0m\u001b[0m\n\u001b[1;32m---> 20\u001b[1;33m \u001b[0mprint\u001b[0m\u001b[1;33m(\u001b[0m\u001b[0mmy_list\u001b[0m\u001b[1;33m)\u001b[0m\u001b[1;33m\u001b[0m\u001b[1;33m\u001b[0m\u001b[0m\n\u001b[0m",
      "\u001b[1;31mNameError\u001b[0m: name 'my_list' is not defined"
     ]
    }
   ],
   "source": [
    "# Deleting list items\n",
    "my_list = ['p', 'r', 'o', 'b', 'l', 'e', 'm']\n",
    "print(\"Intial List:\")\n",
    "print(my_list)\n",
    "\n",
    "# delete one item\n",
    "del my_list[2]\n",
    "\n",
    "print(my_list)\n",
    "\n",
    "# delete multiple items\n",
    "del my_list[1:5]\n",
    "\n",
    "print(my_list)\n",
    "\n",
    "# delete entire list\n",
    "del my_list\n",
    "\n",
    "# Error: List not defined\n",
    "print(my_list)"
   ]
  },
  {
   "cell_type": "markdown",
   "metadata": {},
   "source": [
    "### Python list methods - Use functions clear(), index(), count(), sort(), reverse(), copy()"
   ]
  },
  {
   "cell_type": "code",
   "execution_count": 55,
   "metadata": {},
   "outputs": [
    {
     "name": "stdout",
     "output_type": "stream",
     "text": [
      "Print the List:\n",
      "['apple', 'banana', 'cherry', 'orange']\n",
      "\n",
      "List After Clear Values:\n",
      "[]\n"
     ]
    }
   ],
   "source": [
    "# Python list methods\n",
    "#Python List clear() Method - The clear() method removes all items from the dictionary.\n",
    "\n",
    "fruits = ['apple', 'banana', 'cherry', 'orange']\n",
    "print(\"Print the List:\")\n",
    "print(fruits)\n",
    "\n",
    "#Clear the list\n",
    "fruits.clear()\n",
    "#Print List after Clear\n",
    "print(\"\\nList After Clear Values:\")\n",
    "print(fruits)"
   ]
  },
  {
   "cell_type": "code",
   "execution_count": 51,
   "metadata": {},
   "outputs": [
    {
     "name": "stdout",
     "output_type": "stream",
     "text": [
      "\n",
      "list index() Method\n",
      "3\n",
      "0\n",
      "3\n",
      "4\n"
     ]
    }
   ],
   "source": [
    "#Python List index() Method\n",
    "# Python3 program for demonstration of list index() method \n",
    "\n",
    "# Python3 program for demonstration   \n",
    "# of list index() method\n",
    "\n",
    "print(\"\\nlist index() Method\")\n",
    "list1 = [1, 2, 3, 4, 1, 1, 1, 4, 5] \n",
    "  \n",
    "# Will print the index of '4' in list1 \n",
    "print(list1.index(4)) \n",
    "  \n",
    "list2 = ['cat', 'bat', 'mat', 'cat', 'pet'] \n",
    "  \n",
    "# Will print the index of 'cat' in list2  \n",
    "print(list2.index('cat')) \n",
    "\n",
    "# Random list having sublist and tuple also \n",
    "list1 = [1, 2, 3, [9, 8, 7], ('cat', 'bat')] \n",
    "  \n",
    "# Will print the index of sublist [9, 8, 7] \n",
    "print(list1.index([9, 8, 7])) \n",
    "  \n",
    "# Will print the index of tuple  \n",
    "# ('cat', 'bat') inside list  \n",
    "print(list1.index(('cat', 'bat'))) \n"
   ]
  },
  {
   "cell_type": "code",
   "execution_count": 52,
   "metadata": {},
   "outputs": [
    {
     "name": "stdout",
     "output_type": "stream",
     "text": [
      "4\n",
      "3\n",
      "2\n"
     ]
    }
   ],
   "source": [
    "#The count() method returns the number of times the specified element appears in the list.\n",
    "\n",
    "# Python3 program to count the number of times \n",
    "# an object appears in a list using count() method  \n",
    "  \n",
    "list1 = [1, 1, 1, 2, 3, 2, 1]  \n",
    "  \n",
    "# Counts the number of times 1 appears in list1 \n",
    "print(list1.count(1))  \n",
    "  \n",
    "list2 = ['a', 'a', 'a', 'b', 'b', 'a', 'c', 'b']  \n",
    "  \n",
    "# Counts the number of times 'b' appears in list2 \n",
    "print(list2.count('b'))  \n",
    "  \n",
    "list3 = ['Cat', 'Bat', 'Sat', 'Cat', 'cat', 'Mat'] \n",
    "  \n",
    "# Counts the number of times 'Cat' appears in list3 \n",
    "print(list3.count('Cat')) \n"
   ]
  },
  {
   "cell_type": "code",
   "execution_count": 53,
   "metadata": {},
   "outputs": [
    {
     "name": "stdout",
     "output_type": "stream",
     "text": [
      "\n",
      "Intial List:\n",
      "[1, 2, 3, 4, 5, 6]\n",
      "\n",
      "List after sorting the values\n",
      "[1, 2, 3, 4, 5, 6]\n",
      "\n",
      "Print the list in reverse Order:\n",
      "[6, 5, 4, 3, 2, 1]\n"
     ]
    }
   ],
   "source": [
    "#Python Program sort() function\n",
    "\n",
    "my_list = [3,4,6,1,2,5]\n",
    "my_list.sort()\n",
    "print(\"\\nIntial List:\")\n",
    "print(my_list)\n",
    "# print the list after sorting the values\n",
    "print(\"\\nList after sorting the values\")\n",
    "print(my_list)\n",
    "\n",
    "#reverse() function\n",
    "my_list.reverse()\n",
    "\n",
    "print(\"\\nPrint the list in reverse Order:\")\n",
    "print(my_list)\n"
   ]
  },
  {
   "cell_type": "code",
   "execution_count": 56,
   "metadata": {},
   "outputs": [
    {
     "name": "stdout",
     "output_type": "stream",
     "text": [
      "\n",
      "Initial List:\n",
      "[1, 2, 3, 4]\n",
      "\n",
      "The new list after copy the values : [1, 2, 3, 4]\n"
     ]
    }
   ],
   "source": [
    "#copy() function - The copy() method returns a shallow copy of the list.\n",
    "\n",
    "# Initializing list  \n",
    "list1 = [ 1, 2, 3, 4 ]\n",
    "print(\"\\nInitial List:\")\n",
    "print(list1)\n",
    "\n",
    "# Using copy() to create a shallow copy \n",
    "list2 = list1.copy() \n",
    "  \n",
    "# Printing new list  \n",
    "print (\"\\nThe new list after copy the values : \" + str(list2)) "
   ]
  },
  {
   "cell_type": "markdown",
   "metadata": {},
   "source": [
    "## Python Tuple operations\n",
    "A tuple is a collection of objects which ordered and immutable. Tuples are sequences, just like lists. The differences between tuples and lists are, the tuples cannot be changed unlike lists and tuples use parentheses, whereas lists use square brackets."
   ]
  },
  {
   "cell_type": "code",
   "execution_count": 57,
   "metadata": {},
   "outputs": [
    {
     "name": "stdout",
     "output_type": "stream",
     "text": [
      "()\n",
      "('python', 'geeks')\n",
      "('python', 'geeks')\n"
     ]
    }
   ],
   "source": [
    "#Creating a tuple\n",
    "\n",
    "# An empty tuple \n",
    "empty_tuple = () \n",
    "print (empty_tuple) \n",
    "\n",
    "\n",
    "# Creating non-empty tuples \n",
    "  \n",
    "# One way of creation \n",
    "tup = 'python', 'geeks'\n",
    "print(tup) \n",
    "  \n",
    "# Another for doing the same \n",
    "tup = ('python', 'geeks') \n",
    "print(tup) "
   ]
  },
  {
   "cell_type": "markdown",
   "metadata": {},
   "source": [
    "### Iterating over Tuple"
   ]
  },
  {
   "cell_type": "code",
   "execution_count": 68,
   "metadata": {},
   "outputs": [
    {
     "name": "stdout",
     "output_type": "stream",
     "text": [
      "0 10\n",
      "1 20\n",
      "2 30\n",
      "3 40\n",
      "4 50\n"
     ]
    }
   ],
   "source": [
    "T = (10,20,30,40,50)\n",
    "for var in T:\n",
    "    print(T.index(var),var)"
   ]
  },
  {
   "cell_type": "markdown",
   "metadata": {},
   "source": [
    "### Tuple Membership Test\n",
    "\n",
    "We can test if an item exists in a tuple or not, using the keyword in"
   ]
  },
  {
   "cell_type": "code",
   "execution_count": 69,
   "metadata": {},
   "outputs": [
    {
     "name": "stdout",
     "output_type": "stream",
     "text": [
      "True\n",
      "False\n",
      "True\n"
     ]
    }
   ],
   "source": [
    "# Membership test in tuple\n",
    "my_tuple = ('a', 'p', 'p', 'l', 'e',)\n",
    "\n",
    "# In operation\n",
    "print('a' in my_tuple)\n",
    "print('b' in my_tuple)\n",
    "\n",
    "# Not in operation\n",
    "print('g' not in my_tuple)"
   ]
  },
  {
   "cell_type": "markdown",
   "metadata": {},
   "source": [
    "### Accessing Tuple items"
   ]
  },
  {
   "cell_type": "code",
   "execution_count": 64,
   "metadata": {},
   "outputs": [
    {
     "name": "stdout",
     "output_type": "stream",
     "text": [
      "\n",
      "Print the tuple:\n",
      "(10, 20, 30, 40, 50, 60)\n",
      "\n",
      "Access the values from tuple(Positive)\n",
      "30\n",
      "50\n",
      "\n",
      "Access the values from tuple(Negetive)\n",
      "50\n",
      "30\n"
     ]
    }
   ],
   "source": [
    "#create a tuple:\n",
    "tuple = (10,20,30,40,50,60)\n",
    "print(\"\\nPrint the tuple:\")\n",
    "print(tuple)\n",
    "#Access the values from tuple:\n",
    "print(\"\\nAccess the values from tuple(Positive)\")\n",
    "print(tuple[2])\n",
    "print(tuple[4])\n",
    "\n",
    "#Access the values from tuple(Negetive):\n",
    "print(\"\\nAccess the values from tuple(Negetive)\")\n",
    "print(tuple[-2])\n",
    "print(tuple[-4])"
   ]
  },
  {
   "cell_type": "markdown",
   "metadata": {},
   "source": [
    "### Concatenation of Tuples:"
   ]
  },
  {
   "cell_type": "code",
   "execution_count": 59,
   "metadata": {},
   "outputs": [
    {
     "name": "stdout",
     "output_type": "stream",
     "text": [
      "(0, 1, 2, 3, 'python', 'geek')\n"
     ]
    }
   ],
   "source": [
    "# Code for concatenating 2 tuples \n",
    "  \n",
    "tuple1 = (0, 1, 2, 3) \n",
    "tuple2 = ('python', 'geek') \n",
    "  \n",
    "# Concatenating above two \n",
    "print(tuple1 + tuple2) "
   ]
  },
  {
   "cell_type": "markdown",
   "metadata": {},
   "source": [
    "### Slicing in Tuples:"
   ]
  },
  {
   "cell_type": "code",
   "execution_count": 60,
   "metadata": {},
   "outputs": [
    {
     "name": "stdout",
     "output_type": "stream",
     "text": [
      "(1, 2, 3)\n",
      "(3, 2, 1, 0)\n",
      "(2, 3)\n"
     ]
    }
   ],
   "source": [
    "#Slicing in Tuples\n",
    "# code to test slicing \n",
    "\n",
    "tuple1 = (0 ,1, 2, 3) \n",
    "print(tuple1[1:]) \n",
    "print(tuple1[::-1]) \n",
    "print(tuple1[2:4]) \n"
   ]
  },
  {
   "cell_type": "markdown",
   "metadata": {},
   "source": [
    "### Converting List into Tuple"
   ]
  },
  {
   "cell_type": "code",
   "execution_count": null,
   "metadata": {},
   "outputs": [],
   "source": [
    "# Code for converting a list and a string into a tuple \n",
    "\n",
    "list1 = [1,2,3,5,6]\n",
    "print(tuple(list1))\n",
    "print(tuple('python'))\n",
    "\n",
    "#Output:\n",
    "(1, 2, 3, 5, 6)\n",
    "('p', 'y', 't', 'h', 'o', 'n')  # string 'python'"
   ]
  },
  {
   "cell_type": "markdown",
   "metadata": {},
   "source": [
    "### Python Tuple operations - sorted(), count(), index()"
   ]
  },
  {
   "cell_type": "code",
   "execution_count": null,
   "metadata": {},
   "outputs": [],
   "source": [
    "#sorted\n",
    "tuple = (2,3,1,4,6,5)\n",
    "tuple1 = ((2,20),(1,10),(3,30),(4,40))\n",
    "d1 = {3:\"Apple\",4:\"Banana\",1:\"Mango\",2:\"Orange\"}\n",
    "\n",
    "#Sort the tuple \n",
    "print(\"\\nSort the values:\")\n",
    "sorted(tuple)\n",
    "\n",
    "#Output\n",
    "\n",
    "Sort the values:\n",
    "\n",
    "[1, 2, 3, 5, 6]\n",
    "\n",
    "print(\"\\nSort the values in reverse order:\")\n",
    "sorted(tuple,reverse=True)\n",
    "\n",
    "#Output\n",
    "\n",
    "Sort the values in reverse order:\n",
    "\n",
    "[6, 5, 3, 2, 1]\n",
    "\n",
    "\n",
    "#Sort nested tuples: it will sort tuple based on first value \n",
    "sorted(tuple1)\n",
    "\n",
    "#Output\n",
    "[(1, 10), (2, 20), (3, 30), (4, 40)]\n",
    "\n",
    "#Sort nested tuples in reverse order\n",
    "sorted(tuple1,reverse=True)\n",
    "[(4, 40), (3, 30), (2, 20), (1, 10)]"
   ]
  },
  {
   "cell_type": "markdown",
   "metadata": {},
   "source": [
    "### Python Tuple operations - count()"
   ]
  },
  {
   "cell_type": "code",
   "execution_count": 92,
   "metadata": {},
   "outputs": [
    {
     "name": "stdout",
     "output_type": "stream",
     "text": [
      "(12, 4, 6, 8, 10, '', '', '', '@', '@', '$', '@')\n",
      "Occurences: 3\n",
      "Occurences: 3\n"
     ]
    }
   ],
   "source": [
    "#Python Tuple count() Method Example\n",
    "\n",
    "# Python tuple count() Method  \n",
    "# Creating a tuple  \n",
    "data = (12,4,6,8,10,'','','','@','@','$','@') # duplicate spaces and special chars  \n",
    "print(data)  \n",
    "# Calling Method  \n",
    "count = data.count('')  # It counts spaces too\n",
    "print(\"Occurences:\",count)  \n",
    "count = data.count('@')  \n",
    "print(\"Occurences:\",count) # Counts special chars  "
   ]
  },
  {
   "cell_type": "markdown",
   "metadata": {},
   "source": [
    "### Python Tuple operations - index()\n",
    "The index() method returns the index of the specified element in the tuple.\n",
    "The syntax of the tuple index() method is:\n",
    "tuple.index(element, start, end)"
   ]
  },
  {
   "cell_type": "code",
   "execution_count": 93,
   "metadata": {},
   "outputs": [
    {
     "name": "stdout",
     "output_type": "stream",
     "text": [
      "The index of e: 1\n",
      "The index of i: 2\n"
     ]
    }
   ],
   "source": [
    "# vowels tuple\n",
    "vowels = ('a', 'e', 'i', 'o', 'i', 'u')\n",
    "\n",
    "# index of 'e' in vowels\n",
    "index = vowels.index('e')\n",
    "print('The index of e:', index)\n",
    "\n",
    "# element 'i' is searched\n",
    "# index of the first 'i' is returned\n",
    "index = vowels.index('i')\n",
    "\n",
    "print('The index of i:', index)"
   ]
  },
  {
   "cell_type": "code",
   "execution_count": null,
   "metadata": {},
   "outputs": [],
   "source": []
  }
 ],
 "metadata": {
  "kernelspec": {
   "display_name": "Python 3",
   "language": "python",
   "name": "python3"
  },
  "language_info": {
   "codemirror_mode": {
    "name": "ipython",
    "version": 3
   },
   "file_extension": ".py",
   "mimetype": "text/x-python",
   "name": "python",
   "nbconvert_exporter": "python",
   "pygments_lexer": "ipython3",
   "version": "3.7.5"
  }
 },
 "nbformat": 4,
 "nbformat_minor": 4
}
